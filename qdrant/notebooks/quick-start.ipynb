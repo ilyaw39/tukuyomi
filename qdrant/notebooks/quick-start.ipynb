{
 "cells": [
  {
   "cell_type": "code",
   "execution_count": 12,
   "metadata": {},
   "outputs": [],
   "source": [
    "from qdrant_client import QdrantClient\n",
    "from qdrant_openapi_client.models import VectorParams, Distance\n",
    "import numpy as np\n",
    "\n",
    "client = QdrantClient(host=\"localhost\", port=6333, grpc_port=6334, prefer_grpc=True)"
   ]
  },
  {
   "cell_type": "code",
   "execution_count": 13,
   "metadata": {},
   "outputs": [
    {
     "name": "stdout",
     "output_type": "stream",
     "text": [
      "True\n"
     ]
    },
    {
     "name": "stderr",
     "output_type": "stream",
     "text": [
      "WARNING: All log messages before absl::InitializeLog() is called are written to STDERR\n",
      "I0000 00:00:1722124241.548019   34929 config.cc:230] gRPC experiments enabled: call_status_override_on_cancellation, event_engine_dns, event_engine_listener, http2_stats_fix, monitoring_experiment, pick_first_new, trace_record_callops, work_serializer_clears_time_cache\n"
     ]
    }
   ],
   "source": [
    "def collection_p(collection: str) -> bool:\n",
    "    return client.collection_exists(collection_name=collection)\n",
    "\n",
    "COLL = \"developer-docs\"\n",
    "\n",
    "print(collection_p(COLL))"
   ]
  },
  {
   "cell_type": "code",
   "execution_count": 26,
   "metadata": {},
   "outputs": [
    {
     "data": {
      "text/plain": [
       "{'params': {'vectors': {'size': 384,\n",
       "   'distance': <Distance.COSINE: 'Cosine'>,\n",
       "   'hnsw_config': None,\n",
       "   'quantization_config': None,\n",
       "   'on_disk': None,\n",
       "   'datatype': None,\n",
       "   'multivector_config': None},\n",
       "  'shard_number': 1,\n",
       "  'sharding_method': None,\n",
       "  'replication_factor': 1,\n",
       "  'write_consistency_factor': 1,\n",
       "  'read_fan_out_factor': None,\n",
       "  'on_disk_payload': True,\n",
       "  'sparse_vectors': None},\n",
       " 'hnsw_config': {'m': 16,\n",
       "  'ef_construct': 100,\n",
       "  'full_scan_threshold': 10000,\n",
       "  'max_indexing_threads': 0,\n",
       "  'on_disk': False,\n",
       "  'payload_m': None},\n",
       " 'optimizer_config': {'deleted_threshold': 0.2,\n",
       "  'vacuum_min_vector_number': 1000,\n",
       "  'default_segment_number': 0,\n",
       "  'max_segment_size': None,\n",
       "  'memmap_threshold': None,\n",
       "  'indexing_threshold': 10000,\n",
       "  'flush_interval_sec': 5,\n",
       "  'max_optimization_threads': 1},\n",
       " 'wal_config': {'wal_capacity_mb': 32, 'wal_segments_ahead': 0},\n",
       " 'quantization_config': None}"
      ]
     },
     "execution_count": 26,
     "metadata": {},
     "output_type": "execute_result"
    }
   ],
   "source": [
    "from qdrant_client.http.models.models import CollectionInfo\n",
    "\n",
    "def collection_info(collection: str) -> dict:\n",
    "    return client.get_collection(collection).model_dump()\n",
    "\n",
    "def collection_info_status(collection: str):\n",
    "    return collection_info(collection).get(\"status\")\n",
    "\n",
    "def collection_info_points_count(collection: str):\n",
    "    return collection_info(collection).get(\"points_count\")\n",
    "\n",
    "def collection_info_config(collection: str):\n",
    "    return collection_info(collection).get(\"config\")\n",
    "\n",
    "collection_info_config(COLL)"
   ]
  },
  {
   "cell_type": "code",
   "execution_count": 35,
   "metadata": {},
   "outputs": [],
   "source": [
    "from qdrant_client.models import Filter, FieldCondition, Range"
   ]
  },
  {
   "cell_type": "code",
   "execution_count": 44,
   "metadata": {},
   "outputs": [],
   "source": [
    "from sentence_transformers import SentenceTransformer\n",
    "\n",
    "\n",
    "def search(collection: str, text: str, limit: int = 5):\n",
    "    encoder = SentenceTransformer(\"all-MiniLM-L6-v2\")  # Model to create embeddings\n",
    "    hits = client.search(\n",
    "        collection_name=collection,\n",
    "        query_vector=encoder.encode(text).tolist(),\n",
    "        limit=limit,\n",
    "    )\n",
    "    return [hit.payload for hit in hits]"
   ]
  },
  {
   "cell_type": "code",
   "execution_count": 45,
   "metadata": {},
   "outputs": [
    {
     "data": {
      "text/plain": [
       "[{'text': 'Practical Implementation in Python',\n",
       "  'sections': ['articles', 'articles/sparse-vectors'],\n",
       "  'titles': ['Sparse Vectors in Qdrant: Pure Vector-based Hybrid Search - Qdrant'],\n",
       "  'tag': 'h2',\n",
       "  'location': 'html > body > div:nth-of-type(1) > div:nth-of-type(1) > div > section > article > h2:nth-of-type(9)',\n",
       "  'url': '/articles/sparse-vectors/'},\n",
       " {'text': 'But there are two main reasons for us to use Python for this:',\n",
       "  'sections': ['benchmarks', 'benchmarks/benchmark-faq'],\n",
       "  'titles': ['Benchmarks F.A.Q. - Qdrant',\n",
       "   'Why we decided to test with the Python client'],\n",
       "  'tag': 'p',\n",
       "  'location': 'html > body > div:nth-of-type(1) > div > div > div > section > article > p:nth-of-type(10)',\n",
       "  'url': '/benchmarks/benchmark-faq/'},\n",
       " {'text': 'Get the Python client if you’re familiar with Python.',\n",
       "  'sections': ['documentation'],\n",
       "  'titles': ['Qdrant Documentation - Qdrant', 'First-Time Users:'],\n",
       "  'tag': 'li',\n",
       "  'location': 'html > body > div:nth-of-type(1) > section > div > div > article > ol > li:nth-of-type(2)',\n",
       "  'url': '/documentation/'},\n",
       " {'text': 'Python, being just a bit younger than Java, is ubiquitous in ML projects, mostly owing to its tooling (notably jupyter notebooks), being easy to learn and integration in most ML stacks.',\n",
       "  'sections': ['articles', 'articles/why-rust'],\n",
       "  'titles': ['Why Rust? - Qdrant', 'Why Rust?'],\n",
       "  'tag': 'p',\n",
       "  'location': 'html > body > div:nth-of-type(1) > div:nth-of-type(1) > div > section > article > p:nth-of-type(4)',\n",
       "  'url': '/articles/why-rust/'},\n",
       " {'text': 'Stanford DSPy',\n",
       "  'sections': ['documentation',\n",
       "   'documentation/frameworks',\n",
       "   'documentation/frameworks/dspy'],\n",
       "  'titles': ['Stanford DSPy - Qdrant'],\n",
       "  'tag': 'h1',\n",
       "  'location': 'html > body > div:nth-of-type(1) > section > div > div > div:nth-of-type(2) > article > h1',\n",
       "  'url': '/documentation/frameworks/dspy/'}]"
      ]
     },
     "execution_count": 45,
     "metadata": {},
     "output_type": "execute_result"
    }
   ],
   "source": [
    "search(COLL, \"python\")"
   ]
  },
  {
   "cell_type": "code",
   "execution_count": null,
   "metadata": {},
   "outputs": [],
   "source": []
  }
 ],
 "metadata": {
  "kernelspec": {
   "display_name": "Python 3",
   "language": "python",
   "name": "python3"
  },
  "language_info": {
   "codemirror_mode": {
    "name": "ipython",
    "version": 3
   },
   "file_extension": ".py",
   "mimetype": "text/x-python",
   "name": "python",
   "nbconvert_exporter": "python",
   "pygments_lexer": "ipython3",
   "version": "3.11.9"
  }
 },
 "nbformat": 4,
 "nbformat_minor": 2
}
